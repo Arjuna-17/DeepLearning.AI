{
 "cells": [
  {
   "cell_type": "code",
   "execution_count": 1,
   "metadata": {
    "id": "zX4Kg8DUTKWO"
   },
   "outputs": [],
   "source": [
    "#@title Licensed under the Apache License, Version 2.0 (the \"License\");\n",
    "# you may not use this file except in compliance with the License.\n",
    "# You may obtain a copy of the License at\n",
    "#\n",
    "# https://www.apache.org/licenses/LICENSE-2.0\n",
    "#\n",
    "# Unless required by applicable law or agreed to in writing, software\n",
    "# distributed under the License is distributed on an \"AS IS\" BASIS,\n",
    "# WITHOUT WARRANTIES OR CONDITIONS OF ANY KIND, either express or implied.\n",
    "# See the License for the specific language governing permissions and\n",
    "# limitations under the License."
   ]
  },
  {
   "cell_type": "markdown",
   "metadata": {
    "id": "b71w8VXAo6km"
   },
   "source": [
    "<a href=\"https://colab.research.google.com/github/lmoroney/dlaicourse/blob/master/TensorFlow%20In%20Practice/Course%203%20-%20NLP/NLP%20Course%20-%20Week%203%20Exercise%20Answer.ipynb\" target=\"_parent\"><img src=\"https://colab.research.google.com/assets/colab-badge.svg\" alt=\"Open In Colab\"/></a>"
   ]
  },
  {
   "cell_type": "code",
   "execution_count": 2,
   "metadata": {
    "id": "hmA6EzkQJ5jt"
   },
   "outputs": [],
   "source": [
    "import json\n",
    "import tensorflow as tf\n",
    "import csv\n",
    "import random\n",
    "import numpy as np\n",
    "\n",
    "from tensorflow.keras.preprocessing.text import Tokenizer\n",
    "from tensorflow.keras.preprocessing.sequence import pad_sequences\n",
    "from tensorflow.keras.utils import to_categorical\n",
    "from tensorflow.keras import regularizers\n",
    "\n",
    "\n",
    "embedding_dim = 100\n",
    "max_length = 16\n",
    "trunc_type='post'\n",
    "padding_type='post'\n",
    "oov_tok = \"<OOV>\"\n",
    "training_size=160000\n",
    "test_portion=.1\n",
    "\n",
    "corpus = []\n"
   ]
  },
  {
   "cell_type": "code",
   "execution_count": 3,
   "metadata": {
    "colab": {
     "base_uri": "https://localhost:8080/"
    },
    "id": "bM0l_dORKqE0",
    "outputId": "30ee674b-c6e2-49d8-db7d-4365089e43c6"
   },
   "outputs": [
    {
     "name": "stdout",
     "output_type": "stream",
     "text": [
      "--2020-11-20 03:13:15--  https://storage.googleapis.com/laurencemoroney-blog.appspot.com/training_cleaned.csv\n",
      "Resolving storage.googleapis.com (storage.googleapis.com)... 172.217.7.176, 172.217.7.208, 172.217.9.208, ...\n",
      "Connecting to storage.googleapis.com (storage.googleapis.com)|172.217.7.176|:443... connected.\n",
      "HTTP request sent, awaiting response... 200 OK\n",
      "Length: 238942690 (228M) [application/octet-stream]\n",
      "Saving to: ‘/tmp/training_cleaned.csv’\n",
      "\n",
      "/tmp/training_clean 100%[===================>] 227.87M   145MB/s    in 1.6s    \n",
      "\n",
      "2020-11-20 03:13:17 (145 MB/s) - ‘/tmp/training_cleaned.csv’ saved [238942690/238942690]\n",
      "\n"
     ]
    }
   ],
   "source": [
    "# Note that I cleaned the Stanford dataset to remove LATIN1 encoding to make it easier for Python CSV reader\n",
    "# You can do that yourself with:\n",
    "# iconv -f LATIN1 -t UTF8 training.1600000.processed.noemoticon.csv -o training_cleaned.csv\n",
    "# I then hosted it on my site to make it easier to use in this notebook\n",
    "\n",
    "!wget --no-check-certificate \\\n",
    "    https://storage.googleapis.com/laurencemoroney-blog.appspot.com/training_cleaned.csv \\\n",
    "    -O /tmp/training_cleaned.csv\n",
    "\n",
    "num_sentences = 0\n",
    "\n",
    "with open(\"/tmp/training_cleaned.csv\") as csvfile:\n",
    "    reader = csv.reader(csvfile, delimiter=',')\n",
    "    for row in reader:\n",
    "        list_item=[]\n",
    "        list_item.append(row[5])\n",
    "        this_label=row[0]\n",
    "        if this_label=='0':\n",
    "            list_item.append(0)\n",
    "        else:\n",
    "            list_item.append(1)\n",
    "        num_sentences = num_sentences + 1\n",
    "        corpus.append(list_item)\n"
   ]
  },
  {
   "cell_type": "code",
   "execution_count": 4,
   "metadata": {
    "colab": {
     "base_uri": "https://localhost:8080/"
    },
    "id": "3kxblBUjEUX-",
    "outputId": "4fd97721-d30a-4002-a3ad-578687fdd41f"
   },
   "outputs": [
    {
     "name": "stdout",
     "output_type": "stream",
     "text": [
      "1600000\n",
      "1600000\n",
      "[\"is upset that he can't update his Facebook by texting it... and might cry as a result  School today also. Blah!\", 0]\n"
     ]
    }
   ],
   "source": [
    "print(num_sentences)\n",
    "print(len(corpus))\n",
    "print(corpus[1])\n",
    "\n",
    "# Expected Output:\n",
    "# 1600000\n",
    "# 1600000\n",
    "# [\"is upset that he can't update his Facebook by texting it... and might cry as a result  School today also. Blah!\", 0]"
   ]
  },
  {
   "cell_type": "code",
   "execution_count": 5,
   "metadata": {
    "id": "ohOGz24lsNAD"
   },
   "outputs": [],
   "source": [
    "sentences=[]\n",
    "labels=[]\n",
    "random.shuffle(corpus)\n",
    "for x in range(training_size):\n",
    "    sentences.append(corpus[x][0])\n",
    "    labels.append(corpus[x][1])\n",
    "\n",
    "\n",
    "tokenizer = Tokenizer()\n",
    "tokenizer.fit_on_texts(sentences)\n",
    "\n",
    "word_index = tokenizer.word_index\n",
    "vocab_size=len(word_index)\n",
    "\n",
    "sequences = tokenizer.texts_to_sequences(sentences)\n",
    "padded = pad_sequences(sequences, maxlen=max_length, padding=padding_type, truncating=trunc_type)\n",
    "\n",
    "split = int(test_portion * training_size)\n",
    "\n",
    "test_sequences = padded[0:split]\n",
    "training_sequences = padded[split:training_size]\n",
    "test_labels = labels[0:split]\n",
    "training_labels = labels[split:training_size]"
   ]
  },
  {
   "cell_type": "code",
   "execution_count": 6,
   "metadata": {
    "colab": {
     "base_uri": "https://localhost:8080/"
    },
    "id": "gIrtRem1En3N",
    "outputId": "875d7932-20f5-4d8f-e42f-9e49ccfe0e14"
   },
   "outputs": [
    {
     "name": "stdout",
     "output_type": "stream",
     "text": [
      "138363\n",
      "1\n"
     ]
    }
   ],
   "source": [
    "print(vocab_size)\n",
    "print(word_index['i'])\n",
    "# Expected Output\n",
    "# 138858\n",
    "# 1"
   ]
  },
  {
   "cell_type": "code",
   "execution_count": 7,
   "metadata": {
    "colab": {
     "base_uri": "https://localhost:8080/"
    },
    "id": "C1zdgJkusRh0",
    "outputId": "45d2946a-0772-4b51-a86e-fa322e59421b"
   },
   "outputs": [
    {
     "name": "stdout",
     "output_type": "stream",
     "text": [
      "--2020-11-20 03:13:44--  https://storage.googleapis.com/laurencemoroney-blog.appspot.com/glove.6B.100d.txt\n",
      "Resolving storage.googleapis.com (storage.googleapis.com)... 172.217.15.80, 172.253.122.128, 172.253.63.128, ...\n",
      "Connecting to storage.googleapis.com (storage.googleapis.com)|172.217.15.80|:443... connected.\n",
      "HTTP request sent, awaiting response... 200 OK\n",
      "Length: 347116733 (331M) [text/plain]\n",
      "Saving to: ‘/tmp/glove.6B.100d.txt’\n",
      "\n",
      "/tmp/glove.6B.100d. 100%[===================>] 331.04M   118MB/s    in 2.8s    \n",
      "\n",
      "2020-11-20 03:13:47 (118 MB/s) - ‘/tmp/glove.6B.100d.txt’ saved [347116733/347116733]\n",
      "\n"
     ]
    }
   ],
   "source": [
    "# Note this is the 100 dimension version of GloVe from Stanford\n",
    "# I unzipped and hosted it on my site to make this notebook easier\n",
    "!wget --no-check-certificate \\\n",
    "    https://storage.googleapis.com/laurencemoroney-blog.appspot.com/glove.6B.100d.txt \\\n",
    "    -O /tmp/glove.6B.100d.txt\n",
    "embeddings_index = {};\n",
    "with open('/tmp/glove.6B.100d.txt') as f:\n",
    "    for line in f:\n",
    "        values = line.split();\n",
    "        word = values[0];\n",
    "        coefs = np.asarray(values[1:], dtype='float32');\n",
    "        embeddings_index[word] = coefs;\n",
    "\n",
    "embeddings_matrix = np.zeros((vocab_size+1, embedding_dim));\n",
    "for word, i in word_index.items():\n",
    "    embedding_vector = embeddings_index.get(word);\n",
    "    if embedding_vector is not None:\n",
    "        embeddings_matrix[i] = embedding_vector;"
   ]
  },
  {
   "cell_type": "code",
   "execution_count": 8,
   "metadata": {
    "colab": {
     "base_uri": "https://localhost:8080/"
    },
    "id": "71NLk_lpFLNt",
    "outputId": "d9959974-3471-4362-b723-79f86471acd7"
   },
   "outputs": [
    {
     "name": "stdout",
     "output_type": "stream",
     "text": [
      "138364\n"
     ]
    }
   ],
   "source": [
    "print(len(embeddings_matrix))\n",
    "# Expected Output\n",
    "# 138859"
   ]
  },
  {
   "cell_type": "code",
   "execution_count": 9,
   "metadata": {
    "colab": {
     "base_uri": "https://localhost:8080/"
    },
    "id": "iKKvbuEBOGFz",
    "outputId": "d87affc4-f9c0-45db-da5c-88a3403c2e70"
   },
   "outputs": [
    {
     "name": "stdout",
     "output_type": "stream",
     "text": [
      "Model: \"sequential\"\n",
      "_________________________________________________________________\n",
      "Layer (type)                 Output Shape              Param #   \n",
      "=================================================================\n",
      "embedding (Embedding)        (None, 16, 100)           13836400  \n",
      "_________________________________________________________________\n",
      "dropout (Dropout)            (None, 16, 100)           0         \n",
      "_________________________________________________________________\n",
      "conv1d (Conv1D)              (None, 12, 64)            32064     \n",
      "_________________________________________________________________\n",
      "max_pooling1d (MaxPooling1D) (None, 3, 64)             0         \n",
      "_________________________________________________________________\n",
      "lstm (LSTM)                  (None, 64)                33024     \n",
      "_________________________________________________________________\n",
      "dense (Dense)                (None, 1)                 65        \n",
      "=================================================================\n",
      "Total params: 13,901,553\n",
      "Trainable params: 65,153\n",
      "Non-trainable params: 13,836,400\n",
      "_________________________________________________________________\n",
      "Epoch 1/50\n",
      "4500/4500 - 16s - loss: 0.5658 - accuracy: 0.7009 - val_loss: 0.5209 - val_accuracy: 0.7372\n",
      "Epoch 2/50\n",
      "4500/4500 - 15s - loss: 0.5254 - accuracy: 0.7333 - val_loss: 0.5096 - val_accuracy: 0.7484\n",
      "Epoch 3/50\n",
      "4500/4500 - 15s - loss: 0.5105 - accuracy: 0.7437 - val_loss: 0.5091 - val_accuracy: 0.7487\n",
      "Epoch 4/50\n",
      "4500/4500 - 15s - loss: 0.4988 - accuracy: 0.7531 - val_loss: 0.4977 - val_accuracy: 0.7553\n",
      "Epoch 5/50\n",
      "4500/4500 - 15s - loss: 0.4916 - accuracy: 0.7581 - val_loss: 0.4972 - val_accuracy: 0.7568\n",
      "Epoch 6/50\n",
      "4500/4500 - 15s - loss: 0.4834 - accuracy: 0.7625 - val_loss: 0.4988 - val_accuracy: 0.7528\n",
      "Epoch 7/50\n",
      "4500/4500 - 15s - loss: 0.4776 - accuracy: 0.7665 - val_loss: 0.5065 - val_accuracy: 0.7527\n",
      "Epoch 8/50\n",
      "4500/4500 - 16s - loss: 0.4720 - accuracy: 0.7697 - val_loss: 0.4963 - val_accuracy: 0.7591\n",
      "Epoch 9/50\n",
      "4500/4500 - 15s - loss: 0.4667 - accuracy: 0.7730 - val_loss: 0.4981 - val_accuracy: 0.7592\n",
      "Epoch 10/50\n",
      "4500/4500 - 15s - loss: 0.4637 - accuracy: 0.7748 - val_loss: 0.4986 - val_accuracy: 0.7588\n",
      "Epoch 11/50\n",
      "4500/4500 - 15s - loss: 0.4598 - accuracy: 0.7767 - val_loss: 0.4992 - val_accuracy: 0.7573\n",
      "Epoch 12/50\n",
      "4500/4500 - 15s - loss: 0.4567 - accuracy: 0.7786 - val_loss: 0.4975 - val_accuracy: 0.7576\n",
      "Epoch 13/50\n",
      "4500/4500 - 15s - loss: 0.4540 - accuracy: 0.7803 - val_loss: 0.5033 - val_accuracy: 0.7566\n",
      "Epoch 14/50\n",
      "4500/4500 - 15s - loss: 0.4512 - accuracy: 0.7834 - val_loss: 0.5058 - val_accuracy: 0.7549\n",
      "Epoch 15/50\n",
      "4500/4500 - 15s - loss: 0.4493 - accuracy: 0.7844 - val_loss: 0.5045 - val_accuracy: 0.7570\n",
      "Epoch 16/50\n",
      "4500/4500 - 15s - loss: 0.4469 - accuracy: 0.7848 - val_loss: 0.5041 - val_accuracy: 0.7588\n",
      "Epoch 17/50\n",
      "4500/4500 - 15s - loss: 0.4460 - accuracy: 0.7847 - val_loss: 0.5015 - val_accuracy: 0.7556\n",
      "Epoch 18/50\n",
      "4500/4500 - 15s - loss: 0.4439 - accuracy: 0.7871 - val_loss: 0.5042 - val_accuracy: 0.7573\n",
      "Epoch 19/50\n",
      "4500/4500 - 15s - loss: 0.4409 - accuracy: 0.7892 - val_loss: 0.5070 - val_accuracy: 0.7567\n",
      "Epoch 20/50\n",
      "4500/4500 - 15s - loss: 0.4407 - accuracy: 0.7894 - val_loss: 0.5086 - val_accuracy: 0.7560\n",
      "Epoch 21/50\n",
      "4500/4500 - 15s - loss: 0.4403 - accuracy: 0.7888 - val_loss: 0.5087 - val_accuracy: 0.7556\n",
      "Epoch 22/50\n",
      "4500/4500 - 15s - loss: 0.4386 - accuracy: 0.7899 - val_loss: 0.5074 - val_accuracy: 0.7568\n",
      "Epoch 23/50\n",
      "4500/4500 - 15s - loss: 0.4379 - accuracy: 0.7903 - val_loss: 0.5083 - val_accuracy: 0.7522\n",
      "Epoch 24/50\n",
      "4500/4500 - 15s - loss: 0.4363 - accuracy: 0.7923 - val_loss: 0.5113 - val_accuracy: 0.7551\n",
      "Epoch 25/50\n",
      "4500/4500 - 15s - loss: 0.4360 - accuracy: 0.7920 - val_loss: 0.5091 - val_accuracy: 0.7551\n",
      "Epoch 26/50\n",
      "4500/4500 - 15s - loss: 0.4339 - accuracy: 0.7929 - val_loss: 0.5094 - val_accuracy: 0.7534\n",
      "Epoch 27/50\n",
      "4500/4500 - 15s - loss: 0.4334 - accuracy: 0.7935 - val_loss: 0.5135 - val_accuracy: 0.7535\n",
      "Epoch 28/50\n",
      "4500/4500 - 16s - loss: 0.4343 - accuracy: 0.7928 - val_loss: 0.5078 - val_accuracy: 0.7568\n",
      "Epoch 29/50\n",
      "4500/4500 - 16s - loss: 0.4314 - accuracy: 0.7946 - val_loss: 0.5134 - val_accuracy: 0.7488\n",
      "Epoch 30/50\n",
      "4500/4500 - 15s - loss: 0.4313 - accuracy: 0.7945 - val_loss: 0.5136 - val_accuracy: 0.7502\n",
      "Epoch 31/50\n",
      "4500/4500 - 15s - loss: 0.4307 - accuracy: 0.7959 - val_loss: 0.5110 - val_accuracy: 0.7489\n",
      "Epoch 32/50\n",
      "4500/4500 - 15s - loss: 0.4303 - accuracy: 0.7946 - val_loss: 0.5149 - val_accuracy: 0.7528\n",
      "Epoch 33/50\n",
      "4500/4500 - 15s - loss: 0.4287 - accuracy: 0.7952 - val_loss: 0.5123 - val_accuracy: 0.7544\n",
      "Epoch 34/50\n",
      "4500/4500 - 15s - loss: 0.4299 - accuracy: 0.7954 - val_loss: 0.5152 - val_accuracy: 0.7549\n",
      "Epoch 35/50\n",
      "4500/4500 - 15s - loss: 0.4294 - accuracy: 0.7955 - val_loss: 0.5129 - val_accuracy: 0.7520\n",
      "Epoch 36/50\n",
      "4500/4500 - 15s - loss: 0.4282 - accuracy: 0.7973 - val_loss: 0.5143 - val_accuracy: 0.7492\n",
      "Epoch 37/50\n",
      "4500/4500 - 15s - loss: 0.4281 - accuracy: 0.7959 - val_loss: 0.5125 - val_accuracy: 0.7558\n",
      "Epoch 38/50\n",
      "4500/4500 - 15s - loss: 0.4273 - accuracy: 0.7965 - val_loss: 0.5192 - val_accuracy: 0.7517\n",
      "Epoch 39/50\n",
      "4500/4500 - 15s - loss: 0.4274 - accuracy: 0.7967 - val_loss: 0.5147 - val_accuracy: 0.7523\n",
      "Epoch 40/50\n",
      "4500/4500 - 15s - loss: 0.4267 - accuracy: 0.7974 - val_loss: 0.5117 - val_accuracy: 0.7539\n",
      "Epoch 41/50\n",
      "4500/4500 - 15s - loss: 0.4265 - accuracy: 0.7980 - val_loss: 0.5127 - val_accuracy: 0.7489\n",
      "Epoch 42/50\n",
      "4500/4500 - 15s - loss: 0.4263 - accuracy: 0.7974 - val_loss: 0.5105 - val_accuracy: 0.7528\n",
      "Epoch 43/50\n",
      "4500/4500 - 15s - loss: 0.4271 - accuracy: 0.7980 - val_loss: 0.5130 - val_accuracy: 0.7538\n",
      "Epoch 44/50\n",
      "4500/4500 - 15s - loss: 0.4269 - accuracy: 0.7977 - val_loss: 0.5113 - val_accuracy: 0.7501\n",
      "Epoch 45/50\n",
      "4500/4500 - 15s - loss: 0.4263 - accuracy: 0.7979 - val_loss: 0.5143 - val_accuracy: 0.7517\n",
      "Epoch 46/50\n",
      "4500/4500 - 15s - loss: 0.4258 - accuracy: 0.7986 - val_loss: 0.5141 - val_accuracy: 0.7527\n",
      "Epoch 47/50\n",
      "4500/4500 - 15s - loss: 0.4253 - accuracy: 0.7985 - val_loss: 0.5165 - val_accuracy: 0.7521\n",
      "Epoch 48/50\n",
      "4500/4500 - 15s - loss: 0.4267 - accuracy: 0.7971 - val_loss: 0.5188 - val_accuracy: 0.7547\n",
      "Epoch 49/50\n",
      "4500/4500 - 16s - loss: 0.4242 - accuracy: 0.8000 - val_loss: 0.5124 - val_accuracy: 0.7530\n",
      "Epoch 50/50\n",
      "4500/4500 - 15s - loss: 0.4237 - accuracy: 0.7992 - val_loss: 0.5160 - val_accuracy: 0.7559\n",
      "Training Complete\n"
     ]
    }
   ],
   "source": [
    "model = tf.keras.Sequential([\n",
    "    tf.keras.layers.Embedding(vocab_size+1, embedding_dim, input_length=max_length, weights=[embeddings_matrix], trainable=False),\n",
    "    tf.keras.layers.Dropout(0.2),\n",
    "    tf.keras.layers.Conv1D(64, 5, activation='relu'),\n",
    "    tf.keras.layers.MaxPooling1D(pool_size=4),\n",
    "    tf.keras.layers.LSTM(64),\n",
    "    tf.keras.layers.Dense(1, activation='sigmoid')\n",
    "])\n",
    "model.compile(loss='binary_crossentropy',optimizer='adam',metrics=['accuracy'])\n",
    "model.summary()\n",
    "\n",
    "num_epochs = 50\n",
    "\n",
    "training_padded = np.array(training_sequences)\n",
    "training_labels = np.array(training_labels)\n",
    "testing_padded = np.array(test_sequences)\n",
    "testing_labels = np.array(test_labels)\n",
    "\n",
    "history = model.fit(training_padded, training_labels, epochs=num_epochs, validation_data=(testing_padded, testing_labels), verbose=2)\n",
    "\n",
    "print(\"Training Complete\")"
   ]
  },
  {
   "cell_type": "code",
   "execution_count": 10,
   "metadata": {
    "colab": {
     "base_uri": "https://localhost:8080/",
     "height": 607
    },
    "id": "qxju4ItJKO8F",
    "outputId": "52e26cfa-93e4-4f32-b419-8588363df02c"
   },
   "outputs": [
    {
     "data": {
      "text/plain": [
       "<Figure size 432x288 with 0 Axes>"
      ]
     },
     "execution_count": 10,
     "metadata": {
      "tags": []
     },
     "output_type": "execute_result"
    },
    {
     "data": {
      "image/png": "[encoded data removed]",
      "text/plain": [
       "<Figure size 432x288 with 1 Axes>"
      ]
     },
     "metadata": {
      "needs_background": "light",
      "tags": []
     },
     "output_type": "display_data"
    },
    {
     "data": {
      "image/png": "[encoded data removed]",
      "text/plain": [
       "<Figure size 432x288 with 1 Axes>"
      ]
     },
     "metadata": {
      "needs_background": "light",
      "tags": []
     },
     "output_type": "display_data"
    },
    {
     "data": {
      "text/plain": [
       "<Figure size 432x288 with 0 Axes>"
      ]
     },
     "metadata": {
      "tags": []
     },
     "output_type": "display_data"
    }
   ],
   "source": [
    "import matplotlib.image  as mpimg\n",
    "import matplotlib.pyplot as plt\n",
    "\n",
    "#-----------------------------------------------------------\n",
    "# Retrieve a list of list results on training and test data\n",
    "# sets for each training epoch\n",
    "#-----------------------------------------------------------\n",
    "acc=history.history['accuracy']\n",
    "val_acc=history.history['val_accuracy']\n",
    "loss=history.history['loss']\n",
    "val_loss=history.history['val_loss']\n",
    "\n",
    "epochs=range(len(acc)) # Get number of epochs\n",
    "\n",
    "#------------------------------------------------\n",
    "# Plot training and validation accuracy per epoch\n",
    "#------------------------------------------------\n",
    "plt.plot(epochs, acc, 'r')\n",
    "plt.plot(epochs, val_acc, 'b')\n",
    "plt.title('Training and validation accuracy')\n",
    "plt.xlabel(\"Epochs\")\n",
    "plt.ylabel(\"Accuracy\")\n",
    "plt.legend([\"Accuracy\", \"Validation Accuracy\"])\n",
    "\n",
    "plt.figure()\n",
    "\n",
    "#------------------------------------------------\n",
    "# Plot training and validation loss per epoch\n",
    "#------------------------------------------------\n",
    "plt.plot(epochs, loss, 'r')\n",
    "plt.plot(epochs, val_loss, 'b')\n",
    "plt.title('Training and validation loss')\n",
    "plt.xlabel(\"Epochs\")\n",
    "plt.ylabel(\"Loss\")\n",
    "plt.legend([\"Loss\", \"Validation Loss\"])\n",
    "\n",
    "plt.figure()\n",
    "\n",
    "\n",
    "# Expected Output\n",
    "# A chart where the validation loss does not increase sharply!"
   ]
  }
 ],
 "metadata": {
  "accelerator": "GPU",
  "colab": {
   "name": "NLP Course - Week 3 Exercise Answer.ipynb",
   "provenance": []
  },
  "kernelspec": {
   "display_name": "Python 3",
   "language": "python",
   "name": "python3"
  },
  "language_info": {
   "codemirror_mode": {
    "name": "ipython",
    "version": 3
   },
   "file_extension": ".py",
   "mimetype": "text/x-python",
   "name": "python",
   "nbconvert_exporter": "python",
   "pygments_lexer": "ipython3",
   "version": "3.8.5"
  }
 },
 "nbformat": 4,
 "nbformat_minor": 4
}
